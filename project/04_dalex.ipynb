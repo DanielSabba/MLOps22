{
 "cells": [
  {
   "cell_type": "code",
   "execution_count": 1,
   "id": "b2f3b2eb-9b7b-4e61-aad5-265d9cdb28b5",
   "metadata": {},
   "outputs": [
    {
     "name": "stdout",
     "output_type": "stream",
     "text": [
      "> 2023-01-14 22:35:38,098 [info] loaded project mlops from MLRun DB\n"
     ]
    }
   ],
   "source": [
    "import mlrun\n",
    "project = mlrun.get_or_create_project(name='mlops', user_project=True, context='./')"
   ]
  },
  {
   "cell_type": "markdown",
   "id": "d2633453-fe5b-479c-9c2e-4ae8835b3ba6",
   "metadata": {},
   "source": [
    "### Setting functions"
   ]
  },
  {
   "cell_type": "code",
   "execution_count": 2,
   "id": "3b6bbcfe-d982-48d4-ba3a-492fc0937573",
   "metadata": {},
   "outputs": [
    {
     "data": {
      "text/plain": [
       "<mlrun.runtimes.kubejob.KubejobRuntime at 0x7faf001e0fd0>"
      ]
     },
     "execution_count": 2,
     "metadata": {},
     "output_type": "execute_result"
    }
   ],
   "source": [
    "import os\n",
    "\n",
    "# Setting get data function\n",
    "get_data = mlrun.code_to_function(name='gen_dataset', kind='job', image='mlrun/mlrun', handler='get_data', filename='src/get_data.py')\n",
    "\n",
    "# Mount it:\n",
    "get_data.apply(mlrun.auto_mount())\n",
    "if os.getenv('V3IO_ACCESS_KEY','False')=='False':\n",
    "    get_data.spec.disable_auto_mount=False\n",
    "    \n",
    "project.set_function(get_data)\n",
    "\n",
    "# Setting dalex function\n",
    "dalex = mlrun.code_to_function(name='dalex', kind='job', handler='run_dalex',filename='src/dalex.py')\n",
    "\n",
    "project.set_function(dalex)\n",
    "\n",
    "# Setting training function\n",
    "dalex = mlrun.code_to_function(name='train', kind='job', handler='train',filename='src/auto_trainer.py')\n",
    "project.set_function(dalex)"
   ]
  },
  {
   "cell_type": "code",
   "execution_count": 3,
   "id": "916684fa-6104-46b7-8d6a-5a9aa15132ef",
   "metadata": {},
   "outputs": [
    {
     "name": "stdout",
     "output_type": "stream",
     "text": [
      "Overwriting src/trainer_baseline.py\n"
     ]
    }
   ],
   "source": [
    "%%writefile src/trainer_baseline.py\n",
    "import mlrun\n",
    "from kfp import dsl\n",
    "import sklearn\n",
    "import json\n",
    "\n",
    "@dsl.pipeline(\n",
    "    name=\"Automatic Pipeline\",\n",
    "    description=\"Train & Evaluate\"\n",
    ")\n",
    "def kfpipeline(dataset: str='housing',\n",
    "               path: str='/home/jovyan/data/src/housing.csv',\n",
    "               label_column:str='MEDV'):\n",
    "    \n",
    "    project = mlrun.get_current_project()\n",
    "        \n",
    "    get_data_run = mlrun.run_function(name='get_data',\n",
    "                                      function='gen-dataset',\n",
    "                                      params={'dataset': dataset,\n",
    "                                              'path': path},\n",
    "                                      outputs=[dataset])\n",
    "\n",
    "    \n",
    "    dalex = project.run_function(name='dalex',\n",
    "                                 function='dalex',\n",
    "                                 params={'df_train': get_data_run.outputs[dataset],\n",
    "                                         'target': label_column},\n",
    "                                 outputs=['train_data', 'test_data', 'dalex_output'])\n",
    "    \n",
    "    \n",
    "    params = {\"model_class\": \"xgboost.XGBRegressor\",\n",
    "              \"label_columns\": label_column,\n",
    "              \"model_name\": dataset + '_dalex'}\n",
    "\n",
    "    for key,val in json.loads(mlrun.get_dataitem(dalex.outputs['dalex_output']).get()).items():\n",
    "        params['sample_weight'] = val\n",
    "    \n",
    "    # Train a model using the auto_trainer hub function\n",
    "    train_run = mlrun.run_function(name= 'train',\n",
    "                                   function='train',\n",
    "                                   inputs={\"dataset\": dalex.outputs['train_data'], \n",
    "                                           \"test_set\": dalex.outputs['test_data']},\n",
    "                                   params = params, \n",
    "                                   handler='train',\n",
    "                                   outputs=[\"model\"],\n",
    "                               )"
   ]
  },
  {
   "cell_type": "code",
   "execution_count": 4,
   "id": "b7ff682d-5693-4ade-be19-bd072588c63a",
   "metadata": {},
   "outputs": [
    {
     "data": {
      "text/plain": [
       "<mlrun.projects.project.MlrunProject at 0x7faf0016a100>"
      ]
     },
     "execution_count": 4,
     "metadata": {},
     "output_type": "execute_result"
    }
   ],
   "source": [
    "# Register the workflow file:\n",
    "workflow_name = \"trainer_baseline\"\n",
    "project.set_workflow(workflow_name, \"src/trainer_baseline.py\")\n",
    "\n",
    "# Save the project:\n",
    "project.save()"
   ]
  },
  {
   "cell_type": "code",
   "execution_count": null,
   "id": "56291189-1524-4536-a706-d64cffbd35c3",
   "metadata": {},
   "outputs": [],
   "source": [
    "run = project.run(name=workflow_name,watch=False,local=True, overwrite=True,\n",
    "                  arguments={'path': '/home/jovyan/data/MLOps22/project/src/housing.csv'})"
   ]
  },
  {
   "cell_type": "code",
   "execution_count": null,
   "id": "d83294b0-a01b-471f-a866-789e73a21e2d",
   "metadata": {},
   "outputs": [
    {
     "data": {
      "text/html": [
       "Pipeline started in project mlops-jovyan id=7c0506600bfe4ec8a32bf6dbb24d7894<div><a href=\"http://localhost:30060/mlrun/projects/mlops-jovyan/jobs\" target=\"_blank\">click here to view progress</a></div>"
      ],
      "text/plain": [
       "<IPython.core.display.HTML object>"
      ]
     },
     "metadata": {},
     "output_type": "display_data"
    },
    {
     "name": "stdout",
     "output_type": "stream",
     "text": [
      "> 2023-01-14 22:38:39,675 [info] starting run get_data uid=e8639d8d577c4037b468e43363f63a47 DB=http://mlrun-api:8080\n"
     ]
    },
    {
     "data": {
      "text/html": [
       "<style>\n",
       ".dictlist {\n",
       "  background-color: #4EC64B;\n",
       "  text-align: center;\n",
       "  margin: 4px;\n",
       "  border-radius: 3px; padding: 0px 3px 1px 3px; display: inline-block;}\n",
       ".artifact {\n",
       "  cursor: pointer;\n",
       "  background-color: #4EC64B;\n",
       "  text-align: left;\n",
       "  margin: 4px; border-radius: 3px; padding: 0px 3px 1px 3px; display: inline-block;\n",
       "}\n",
       "div.block.hidden {\n",
       "  display: none;\n",
       "}\n",
       ".clickable {\n",
       "  cursor: pointer;\n",
       "}\n",
       ".ellipsis {\n",
       "  display: inline-block;\n",
       "  max-width: 60px;\n",
       "  white-space: nowrap;\n",
       "  overflow: hidden;\n",
       "  text-overflow: ellipsis;\n",
       "}\n",
       ".master-wrapper {\n",
       "  display: flex;\n",
       "  flex-flow: row nowrap;\n",
       "  justify-content: flex-start;\n",
       "  align-items: stretch;\n",
       "}\n",
       ".master-tbl {\n",
       "  flex: 3\n",
       "}\n",
       ".master-wrapper > div {\n",
       "  margin: 4px;\n",
       "  padding: 10px;\n",
       "}\n",
       "iframe.fileview {\n",
       "  border: 0 none;\n",
       "  height: 100%;\n",
       "  width: 100%;\n",
       "  white-space: pre-wrap;\n",
       "}\n",
       ".pane-header-title {\n",
       "  width: 80%;\n",
       "  font-weight: 500;\n",
       "}\n",
       ".pane-header {\n",
       "  line-height: 1;\n",
       "  background-color: #4EC64B;\n",
       "  padding: 3px;\n",
       "}\n",
       ".pane-header .close {\n",
       "  font-size: 20px;\n",
       "  font-weight: 700;\n",
       "  float: right;\n",
       "  margin-top: -5px;\n",
       "}\n",
       ".master-wrapper .right-pane {\n",
       "  border: 1px inset silver;\n",
       "  width: 40%;\n",
       "  min-height: 300px;\n",
       "  flex: 3\n",
       "  min-width: 500px;\n",
       "}\n",
       ".master-wrapper * {\n",
       "  box-sizing: border-box;\n",
       "}\n",
       "</style><script>\n",
       "function copyToClipboard(fld) {\n",
       "    if (document.queryCommandSupported && document.queryCommandSupported('copy')) {\n",
       "        var textarea = document.createElement('textarea');\n",
       "        textarea.textContent = fld.innerHTML;\n",
       "        textarea.style.position = 'fixed';\n",
       "        document.body.appendChild(textarea);\n",
       "        textarea.select();\n",
       "\n",
       "        try {\n",
       "            return document.execCommand('copy'); // Security exception may be thrown by some browsers.\n",
       "        } catch (ex) {\n",
       "\n",
       "        } finally {\n",
       "            document.body.removeChild(textarea);\n",
       "        }\n",
       "    }\n",
       "}\n",
       "function expandPanel(el) {\n",
       "  const panelName = \"#\" + el.getAttribute('paneName');\n",
       "  console.log(el.title);\n",
       "\n",
       "  document.querySelector(panelName + \"-title\").innerHTML = el.title\n",
       "  iframe = document.querySelector(panelName + \"-body\");\n",
       "\n",
       "  const tblcss = `<style> body { font-family: Arial, Helvetica, sans-serif;}\n",
       "    #csv { margin-bottom: 15px; }\n",
       "    #csv table { border-collapse: collapse;}\n",
       "    #csv table td { padding: 4px 8px; border: 1px solid silver;} </style>`;\n",
       "\n",
       "  function csvToHtmlTable(str) {\n",
       "    return '<div id=\"csv\"><table><tr><td>' +  str.replace(/[\\n\\r]+$/g, '').replace(/[\\n\\r]+/g, '</td></tr><tr><td>')\n",
       "      .replace(/,/g, '</td><td>') + '</td></tr></table></div>';\n",
       "  }\n",
       "\n",
       "  function reqListener () {\n",
       "    if (el.title.endsWith(\".csv\")) {\n",
       "      iframe.setAttribute(\"srcdoc\", tblcss + csvToHtmlTable(this.responseText));\n",
       "    } else {\n",
       "      iframe.setAttribute(\"srcdoc\", this.responseText);\n",
       "    }\n",
       "    console.log(this.responseText);\n",
       "  }\n",
       "\n",
       "  const oReq = new XMLHttpRequest();\n",
       "  oReq.addEventListener(\"load\", reqListener);\n",
       "  oReq.open(\"GET\", el.title);\n",
       "  oReq.send();\n",
       "\n",
       "\n",
       "  //iframe.src = el.title;\n",
       "  const resultPane = document.querySelector(panelName + \"-pane\");\n",
       "  if (resultPane.classList.contains(\"hidden\")) {\n",
       "    resultPane.classList.remove(\"hidden\");\n",
       "  }\n",
       "}\n",
       "function closePanel(el) {\n",
       "  const panelName = \"#\" + el.getAttribute('paneName')\n",
       "  const resultPane = document.querySelector(panelName + \"-pane\");\n",
       "  if (!resultPane.classList.contains(\"hidden\")) {\n",
       "    resultPane.classList.add(\"hidden\");\n",
       "  }\n",
       "}\n",
       "\n",
       "</script>\n",
       "<div class=\"master-wrapper\">\n",
       "  <div class=\"block master-tbl\"><div>\n",
       "<style scoped>\n",
       "    .dataframe tbody tr th:only-of-type {\n",
       "        vertical-align: middle;\n",
       "    }\n",
       "\n",
       "    .dataframe tbody tr th {\n",
       "        vertical-align: top;\n",
       "    }\n",
       "\n",
       "    .dataframe thead th {\n",
       "        text-align: right;\n",
       "    }\n",
       "</style>\n",
       "<table border=\"1\" class=\"dataframe\">\n",
       "  <thead>\n",
       "    <tr style=\"text-align: right;\">\n",
       "      <th>project</th>\n",
       "      <th>uid</th>\n",
       "      <th>iter</th>\n",
       "      <th>start</th>\n",
       "      <th>state</th>\n",
       "      <th>name</th>\n",
       "      <th>labels</th>\n",
       "      <th>inputs</th>\n",
       "      <th>parameters</th>\n",
       "      <th>results</th>\n",
       "      <th>artifacts</th>\n",
       "    </tr>\n",
       "  </thead>\n",
       "  <tbody>\n",
       "    <tr>\n",
       "      <td>mlops-jovyan</td>\n",
       "      <td><div title=\"e8639d8d577c4037b468e43363f63a47\"><a href=\"http://localhost:30060/mlrun/projects/mlops-jovyan/jobs/monitor/e8639d8d577c4037b468e43363f63a47/overview\" target=\"_blank\" >...63f63a47</a></div></td>\n",
       "      <td>0</td>\n",
       "      <td>Jan 14 22:38:39</td>\n",
       "      <td>completed</td>\n",
       "      <td>get_data</td>\n",
       "      <td><div class=\"dictlist\">workflow=7c0506600bfe4ec8a32bf6dbb24d7894</div><div class=\"dictlist\">kind=</div><div class=\"dictlist\">owner=jovyan</div><div class=\"dictlist\">host=mlrun-jupyter-5cd9c659c-2dpxf</div></td>\n",
       "      <td></td>\n",
       "      <td><div class=\"dictlist\">dataset=motor</div><div class=\"dictlist\">path=/home/jovyan/data/MLOps22/project/src/freMTPL2freq.csv</div></td>\n",
       "      <td></td>\n",
       "      <td><div title=\"s3://mlrun/projects/mlops-jovyan/artifacts/7c0506600bfe4ec8a32bf6dbb24d7894/get_data/0/motor.csv\">motor</div></td>\n",
       "    </tr>\n",
       "  </tbody>\n",
       "</table>\n",
       "</div></div>\n",
       "  <div id=\"resultff358ab7-pane\" class=\"right-pane block hidden\">\n",
       "    <div class=\"pane-header\">\n",
       "      <span id=\"resultff358ab7-title\" class=\"pane-header-title\">Title</span>\n",
       "      <span onclick=\"closePanel(this)\" paneName=\"resultff358ab7\" class=\"close clickable\">&times;</span>\n",
       "    </div>\n",
       "    <iframe class=\"fileview\" id=\"resultff358ab7-body\"></iframe>\n",
       "  </div>\n",
       "</div>\n"
      ],
      "text/plain": [
       "<IPython.core.display.HTML object>"
      ]
     },
     "metadata": {},
     "output_type": "display_data"
    },
    {
     "name": "stdout",
     "output_type": "stream",
     "text": [
      "\n"
     ]
    },
    {
     "data": {
      "text/html": [
       "<b> > to track results use the .show() or .logs() methods  or <a href=\"http://localhost:30060/mlrun/projects/mlops-jovyan/jobs/monitor/e8639d8d577c4037b468e43363f63a47/overview\" target=\"_blank\">click here</a> to open in UI</b>"
      ],
      "text/plain": [
       "<IPython.core.display.HTML object>"
      ]
     },
     "metadata": {},
     "output_type": "display_data"
    },
    {
     "name": "stdout",
     "output_type": "stream",
     "text": [
      "> 2023-01-14 22:38:46,428 [info] run executed, status=completed\n",
      "> 2023-01-14 22:38:46,441 [info] starting run dalex uid=6538411cb39e4f24975fc7e7d91fe10c DB=http://mlrun-api:8080\n",
      "dataframe shape before dalex : (542409, 11)\n",
      "Preparation of a new explainer is initiated\n",
      "\n",
      "  -> data              : 542409 rows 10 cols\n",
      "  -> target variable   : Parameter 'y' was a pandas.Series. Converted to a numpy.ndarray.\n",
      "  -> target variable   : 542409 values\n",
      "  -> model_class       : xgboost.sklearn.XGBRegressor (default)\n",
      "  -> label             : Not specified, model's class short name will be used. (default)\n",
      "  -> predict function  : <function yhat_default at 0x7fae982b5e50> will be used (default)\n",
      "  -> predict function  : Accepts only pandas.DataFrame, numpy.ndarray causes problems.\n",
      "  -> predicted values  : min = -0.111, mean = 0.053, max = 2.02\n",
      "  -> model type        : regression will be used (default)\n",
      "  -> residual function : difference between y and yhat (default)\n",
      "  -> residuals         : min = -0.844, mean = 5.24e-06, max = 15.8\n",
      "  -> model_info        : package sklearn\n",
      "\n",
      "A new explainer has been created!\n"
     ]
    }
   ],
   "source": [
    "run = project.run(name=workflow_name,watch=False,local=True, overwrite=True,\n",
    "                  arguments={'dataset': 'motor',\n",
    "                             'path': '/home/jovyan/data/MLOps22/project/src/freMTPL2freq.csv',\n",
    "                             'label_column': 'ClaimNb'})"
   ]
  }
 ],
 "metadata": {
  "kernelspec": {
   "display_name": "Python 3",
   "language": "python",
   "name": "python3"
  },
  "language_info": {
   "codemirror_mode": {
    "name": "ipython",
    "version": 3
   },
   "file_extension": ".py",
   "mimetype": "text/x-python",
   "name": "python",
   "nbconvert_exporter": "python",
   "pygments_lexer": "ipython3",
   "version": "3.8.8"
  }
 },
 "nbformat": 4,
 "nbformat_minor": 5
}
