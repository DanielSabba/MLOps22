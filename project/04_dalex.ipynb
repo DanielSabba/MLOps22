{
 "cells": [
  {
   "cell_type": "code",
   "execution_count": 1,
   "id": "b2f3b2eb-9b7b-4e61-aad5-265d9cdb28b5",
   "metadata": {},
   "outputs": [
    {
     "name": "stdout",
     "output_type": "stream",
     "text": [
      "> 2023-01-14 18:53:50,685 [info] loaded project mlops from MLRun DB\n"
     ]
    }
   ],
   "source": [
    "import mlrun\n",
    "project = mlrun.get_or_create_project(name='mlops', user_project=True, context='./')"
   ]
  },
  {
   "cell_type": "markdown",
   "id": "d2633453-fe5b-479c-9c2e-4ae8835b3ba6",
   "metadata": {},
   "source": [
    "### Setting functions"
   ]
  },
  {
   "cell_type": "code",
   "execution_count": 2,
   "id": "3b6bbcfe-d982-48d4-ba3a-492fc0937573",
   "metadata": {},
   "outputs": [
    {
     "data": {
      "text/plain": [
       "<mlrun.runtimes.kubejob.KubejobRuntime at 0x7f2fb8102850>"
      ]
     },
     "execution_count": 2,
     "metadata": {},
     "output_type": "execute_result"
    }
   ],
   "source": [
    "import os\n",
    "\n",
    "# Setting get data function\n",
    "get_data = mlrun.code_to_function(name='gen_dataset', kind='job', image='mlrun/mlrun', handler='get_data', filename='src/get_data.py')\n",
    "\n",
    "# Mount it:\n",
    "get_data.apply(mlrun.auto_mount())\n",
    "if os.getenv('V3IO_ACCESS_KEY','False')=='False':\n",
    "    get_data.spec.disable_auto_mount=False\n",
    "    \n",
    "project.set_function(get_data)\n",
    "\n",
    "# Setting dalex function\n",
    "dalex = mlrun.code_to_function(name='dalex', kind='job', handler='run_dalex',filename='src/dalex.py')\n",
    "\n",
    "project.set_function(dalex)\n",
    "\n",
    "# Setting training function\n",
    "dalex = mlrun.code_to_function(name='train', kind='job', handler='train',filename='src/auto_trainer.py')\n",
    "project.set_function(dalex)"
   ]
  },
  {
   "cell_type": "code",
   "execution_count": 6,
   "id": "916684fa-6104-46b7-8d6a-5a9aa15132ef",
   "metadata": {},
   "outputs": [
    {
     "name": "stdout",
     "output_type": "stream",
     "text": [
      "Overwriting src/trainer_baseline.py\n"
     ]
    }
   ],
   "source": [
    "%%writefile src/trainer_baseline.py\n",
    "import mlrun\n",
    "from kfp import dsl\n",
    "import sklearn\n",
    "import json\n",
    "\n",
    "@dsl.pipeline(\n",
    "    name=\"Automatic Pipeline\",\n",
    "    description=\"Train & Evaluate\"\n",
    ")\n",
    "def kfpipeline(dataset: str='housing',\n",
    "               path: str='/home/jovyan/data/src/housing.csv',\n",
    "               label_column:str='MEDV'):\n",
    "    \n",
    "    project = mlrun.get_current_project()\n",
    "        \n",
    "    get_data_run = mlrun.run_function(name='get_data',\n",
    "                                      function='gen-dataset',\n",
    "                                      params={'dataset': dataset,\n",
    "                                              'path': path},\n",
    "                                      outputs=[dataset])\n",
    "\n",
    "    \n",
    "    dalex = project.run_function(name='dalex',\n",
    "                                 function='dalex',\n",
    "                                 params={'df_train': get_data_run.outputs[dataset],\n",
    "                                         'target': label_column},\n",
    "                                 outputs=['train_data', 'test_data', 'dalex_output'])\n",
    "    \n",
    "    \n",
    "    params = {\"model_class\": \"xgboost.XGBRegressor\",\n",
    "              \"label_columns\": label_column,\n",
    "              \"model_name\": dataset + '_dalex'}\n",
    "\n",
    "    for key,val in json.loads(mlrun.get_dataitem(dalex.outputs['dalex_output']).get()).items():\n",
    "        params['sample_weight'] = val\n",
    "    \n",
    "    # Train a model using the auto_trainer hub function\n",
    "    train_run = mlrun.run_function(name= 'train',\n",
    "                                   function='train',\n",
    "                                   inputs={\"dataset\": dalex.outputs['train_data'], \n",
    "                                           \"test_set\": dalex.outputs['test_data']},\n",
    "                                   params = params, \n",
    "                                   handler='train',\n",
    "                                   outputs=[\"model\"],\n",
    "                               )"
   ]
  },
  {
   "cell_type": "code",
   "execution_count": 7,
   "id": "b7ff682d-5693-4ade-be19-bd072588c63a",
   "metadata": {},
   "outputs": [
    {
     "data": {
      "text/plain": [
       "<mlrun.projects.project.MlrunProject at 0x7f2ff21fcd60>"
      ]
     },
     "execution_count": 7,
     "metadata": {},
     "output_type": "execute_result"
    }
   ],
   "source": [
    "# Register the workflow file:\n",
    "workflow_name = \"trainer_baseline\"\n",
    "project.set_workflow(workflow_name, \"src/trainer_baseline.py\")\n",
    "\n",
    "# Save the project:\n",
    "project.save()"
   ]
  },
  {
   "cell_type": "code",
   "execution_count": null,
   "id": "56291189-1524-4536-a706-d64cffbd35c3",
   "metadata": {},
   "outputs": [],
   "source": [
    "run = project.run(name=workflow_name,watch=False,local=True, overwrite=True,\n",
    "                  arguments={'path': '/home/jovyan/data/MLOps22/project/src/housing.csv'})"
   ]
  },
  {
   "cell_type": "code",
   "execution_count": null,
   "id": "d83294b0-a01b-471f-a866-789e73a21e2d",
   "metadata": {},
   "outputs": [],
   "source": [
    "run = project.run(name=workflow_name,watch=False,local=True, overwrite=True,\n",
    "                  arguments={'dataset': 'motor',\n",
    "                             'path': '/home/jovyan/data/MLOps22/project/src/freMTPL2freq.csv',\n",
    "                             'label_column': 'ClaimNb'})"
   ]
  },
  {
   "cell_type": "code",
   "execution_count": null,
   "id": "df15b62f-8c7b-4e57-81d5-e5f667954199",
   "metadata": {},
   "outputs": [],
   "source": [
    "project.list_artifacts()"
   ]
  }
 ],
 "metadata": {
  "kernelspec": {
   "display_name": "Python 3",
   "language": "python",
   "name": "python3"
  },
  "language_info": {
   "codemirror_mode": {
    "name": "ipython",
    "version": 3
   },
   "file_extension": ".py",
   "mimetype": "text/x-python",
   "name": "python",
   "nbconvert_exporter": "python",
   "pygments_lexer": "ipython3",
   "version": "3.8.8"
  }
 },
 "nbformat": 4,
 "nbformat_minor": 5
}
